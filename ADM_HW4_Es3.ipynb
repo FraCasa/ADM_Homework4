{
 "cells": [
  {
   "cell_type": "markdown",
   "metadata": {},
   "source": [
    "## 3. Algorithmic question"
   ]
  },
  {
   "cell_type": "markdown",
   "metadata": {},
   "source": [
    "You are given an array A with n integer numbers.\n",
    "\n",
    "Let s = min{ A[1], ..., A[n] } and b = max { A[1], ..., A[n] }.<b>\n",
    "\n",
    "Let r = b - s \n",
    "    \n",
    "Prove that we can sort A in time O(n + r)."
   ]
  },
  {
   "cell_type": "markdown",
   "metadata": {},
   "source": [
    "### Answer"
   ]
  },
  {
   "cell_type": "markdown",
   "metadata": {},
   "source": [
    "We can sort A in time O(n + r) using *Pigeonhole Sort* algorithm.\n",
    "\n",
    "Given an array of a known lenght and a definite range, we can sort it in O( n + r).\n",
    "where *n* is the lenght of the array, and *r* is the range.\n",
    "\n",
    "In our case r= b-s. The maximum - minimum of the array.\n",
    "\n",
    "Steps of the *Pigeonhole Sort* algorithm:\n",
    "\n",
    "1. We need to use extra memory. We set up a new array, initially empty, with the same size of our range (max-min).\n",
    "2. Visiting each element of the original array, put each value in the slot (the \"pigeonhole\") corrisponding to its key.\n",
    "    in this way each slot could contain nothing/a value/ a list of values with a specific key.\n",
    "3. Now with a loop on this array put, for each pigeonhole, its element into the original array in increasing order, not considering the empty spaces.\n",
    "\n",
    "\n",
    "Sorting time: O (n+ r)\n",
    "\n",
    "We have two separate loops in the algorithm: one in the initial array, through its lenght (n), and the second in the other array (in the second second whose length is given by the range between the minimum and the highest -> r).\n",
    "\n",
    "So, in the worst case, this algorithm is O(n + r). "
   ]
  },
  {
   "cell_type": "code",
   "execution_count": null,
   "metadata": {},
   "outputs": [],
   "source": []
  }
 ],
 "metadata": {
  "kernelspec": {
   "display_name": "Python 3",
   "language": "python",
   "name": "python3"
  },
  "language_info": {
   "codemirror_mode": {
    "name": "ipython",
    "version": 3
   },
   "file_extension": ".py",
   "mimetype": "text/x-python",
   "name": "python",
   "nbconvert_exporter": "python",
   "pygments_lexer": "ipython3",
   "version": "3.8.5"
  }
 },
 "nbformat": 4,
 "nbformat_minor": 4
}
