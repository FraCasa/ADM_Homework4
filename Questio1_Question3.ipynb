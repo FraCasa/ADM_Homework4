{
 "cells": [
  {
   "cell_type": "markdown",
   "metadata": {},
   "source": [
    "# Homework 4 - Hard coding\n",
    "Goal of the homework: write important algorithms and functions from scratch."
   ]
  },
  {
   "cell_type": "markdown",
   "metadata": {},
   "source": [
    "## 1. Hashing"
   ]
  },
  {
   "cell_type": "markdown",
   "metadata": {},
   "source": [
    "Download the datasets [here](https://drive.google.com/file/d/19SD2db0dH2A0QLJOmBHnkbqOX6SbERcY/view). You will find a `hash.txt file.`\n",
    "\n",
    "1. Implement your hash functions from scratch, no ready-made hash functions are allowed. Read the class material and search the internet if you need to. As a reference, it may be useful to look at the description of hash functions in the book or here.\n",
    "2. Use your hash function, implement a HyperLogLog structure.\n",
    "3. Read the dataset sequentially and add it to your HyperLogLog.\n",
    "4. At the end you have to provide:\n",
    "    * The cardinality of the dataset.\n",
    "    * The error of your filter."
   ]
  },
  {
   "cell_type": "code",
   "execution_count": 2,
   "metadata": {
    "ExecuteTime": {
     "end_time": "2020-12-23T16:18:03.393297Z",
     "start_time": "2020-12-23T16:18:02.982268Z"
    }
   },
   "outputs": [],
   "source": [
    "import pandas as pd\n",
    "from math import log2\n",
    "import numpy as np\n",
    "from functions import *      #function we've created"
   ]
  },
  {
   "cell_type": "code",
   "execution_count": 4,
   "metadata": {
    "ExecuteTime": {
     "end_time": "2020-12-23T16:25:20.931391Z",
     "start_time": "2020-12-23T16:18:21.253422Z"
    }
   },
   "outputs": [],
   "source": [
    "data = pd.read_csv('hash.txt', header = None)"
   ]
  },
  {
   "cell_type": "code",
   "execution_count": 5,
   "metadata": {
    "ExecuteTime": {
     "end_time": "2020-12-23T16:25:21.156700Z",
     "start_time": "2020-12-23T16:25:20.957427Z"
    }
   },
   "outputs": [
    {
     "data": {
      "text/html": [
       "<div>\n",
       "<style scoped>\n",
       "    .dataframe tbody tr th:only-of-type {\n",
       "        vertical-align: middle;\n",
       "    }\n",
       "\n",
       "    .dataframe tbody tr th {\n",
       "        vertical-align: top;\n",
       "    }\n",
       "\n",
       "    .dataframe thead th {\n",
       "        text-align: right;\n",
       "    }\n",
       "</style>\n",
       "<table border=\"1\" class=\"dataframe\">\n",
       "  <thead>\n",
       "    <tr style=\"text-align: right;\">\n",
       "      <th></th>\n",
       "      <th>0</th>\n",
       "    </tr>\n",
       "  </thead>\n",
       "  <tbody>\n",
       "    <tr>\n",
       "      <th>0</th>\n",
       "      <td>844082e02a27ddee8d99ea1af94a2969</td>\n",
       "    </tr>\n",
       "    <tr>\n",
       "      <th>1</th>\n",
       "      <td>ff96d6665b5c59d3a70bb8f2ba4f10be</td>\n",
       "    </tr>\n",
       "    <tr>\n",
       "      <th>2</th>\n",
       "      <td>b64a85884e2b159829331c19e05dbac9</td>\n",
       "    </tr>\n",
       "    <tr>\n",
       "      <th>3</th>\n",
       "      <td>1c8836719e84867c26ba2cfeb372c53d</td>\n",
       "    </tr>\n",
       "    <tr>\n",
       "      <th>4</th>\n",
       "      <td>b66f73ffd9008d9c99159e164261df51</td>\n",
       "    </tr>\n",
       "    <tr>\n",
       "      <th>...</th>\n",
       "      <td>...</td>\n",
       "    </tr>\n",
       "    <tr>\n",
       "      <th>138999995</th>\n",
       "      <td>84f48cbf9aa048ddada7e47d70ee7d47</td>\n",
       "    </tr>\n",
       "    <tr>\n",
       "      <th>138999996</th>\n",
       "      <td>dbce076164042cb808a0be005a307545</td>\n",
       "    </tr>\n",
       "    <tr>\n",
       "      <th>138999997</th>\n",
       "      <td>b175ab844ab7ec3c803a0e86a9033729</td>\n",
       "    </tr>\n",
       "    <tr>\n",
       "      <th>138999998</th>\n",
       "      <td>f0a6061d411a90921922eb5716caafc9</td>\n",
       "    </tr>\n",
       "    <tr>\n",
       "      <th>138999999</th>\n",
       "      <td>66f7ea0ff5b62a47f04b00bb624981a4</td>\n",
       "    </tr>\n",
       "  </tbody>\n",
       "</table>\n",
       "<p>139000000 rows × 1 columns</p>\n",
       "</div>"
      ],
      "text/plain": [
       "                                          0\n",
       "0          844082e02a27ddee8d99ea1af94a2969\n",
       "1          ff96d6665b5c59d3a70bb8f2ba4f10be\n",
       "2          b64a85884e2b159829331c19e05dbac9\n",
       "3          1c8836719e84867c26ba2cfeb372c53d\n",
       "4          b66f73ffd9008d9c99159e164261df51\n",
       "...                                     ...\n",
       "138999995  84f48cbf9aa048ddada7e47d70ee7d47\n",
       "138999996  dbce076164042cb808a0be005a307545\n",
       "138999997  b175ab844ab7ec3c803a0e86a9033729\n",
       "138999998  f0a6061d411a90921922eb5716caafc9\n",
       "138999999  66f7ea0ff5b62a47f04b00bb624981a4\n",
       "\n",
       "[139000000 rows x 1 columns]"
      ]
     },
     "execution_count": 5,
     "metadata": {},
     "output_type": "execute_result"
    }
   ],
   "source": [
    "data"
   ]
  },
  {
   "cell_type": "code",
   "execution_count": 6,
   "metadata": {
    "ExecuteTime": {
     "end_time": "2020-12-23T16:36:41.907198Z",
     "start_time": "2020-12-23T16:25:21.160673Z"
    }
   },
   "outputs": [],
   "source": [
    "#create a list with all the elements\n",
    "lis=[]\n",
    "for i in range(0,len(data[0])):\n",
    "    lis.append(data[0][i])"
   ]
  },
  {
   "cell_type": "markdown",
   "metadata": {},
   "source": [
    "We load the txt file into a list. Then we remove \"\\n\" at the end of the line of each string in the file."
   ]
  },
  {
   "cell_type": "markdown",
   "metadata": {},
   "source": [
    "## Hash function"
   ]
  },
  {
   "cell_type": "markdown",
   "metadata": {},
   "source": [
    "We apply our hash function to the hexadecimal values in the list.\n",
    "\n",
    "We decide to implement a simple hash value that is enough accurate to our scope.\n",
    "In fact, since we have to implement the HyperLogLog algorithm and it takes in input a binary values, we decide to transform every hexadecimal in a decimal number and compute de module of a large enough number $2^{32}) $"
   ]
  },
  {
   "cell_type": "code",
   "execution_count": 7,
   "metadata": {
    "ExecuteTime": {
     "end_time": "2020-12-23T16:39:17.224958Z",
     "start_time": "2020-12-23T16:36:41.939795Z"
    }
   },
   "outputs": [],
   "source": [
    "#apply hash function\n",
    "for i in range(0,len(lis)):\n",
    "        lis[i]=Hash(lis[i])"
   ]
  },
  {
   "cell_type": "code",
   "execution_count": 8,
   "metadata": {
    "ExecuteTime": {
     "end_time": "2020-12-23T16:41:28.498732Z",
     "start_time": "2020-12-23T16:39:17.235959Z"
    }
   },
   "outputs": [],
   "source": [
    "#create a list with the binary values\n",
    "binlist=[]\n",
    "for i in range(0,len(lis)):\n",
    "    binlist.append(binalinator(lis[i]))"
   ]
  },
  {
   "cell_type": "markdown",
   "metadata": {},
   "source": [
    "## HyperLogLog algorithm"
   ]
  },
  {
   "cell_type": "code",
   "execution_count": 9,
   "metadata": {
    "ExecuteTime": {
     "end_time": "2020-12-23T16:41:28.555363Z",
     "start_time": "2020-12-23T16:41:28.528099Z"
    }
   },
   "outputs": [],
   "source": [
    "# value of m and b\n",
    "m=2048       \n",
    "b=int(log2(m))"
   ]
  },
  {
   "cell_type": "code",
   "execution_count": 10,
   "metadata": {
    "ExecuteTime": {
     "end_time": "2020-12-23T16:41:28.586983Z",
     "start_time": "2020-12-23T16:41:28.558363Z"
    }
   },
   "outputs": [],
   "source": [
    "HLL=np.zeros(2**b)"
   ]
  },
  {
   "cell_type": "markdown",
   "metadata": {},
   "source": [
    "We read the dataset sequentially and add it to our HyperLogLog"
   ]
  },
  {
   "cell_type": "code",
   "execution_count": 11,
   "metadata": {
    "ExecuteTime": {
     "end_time": "2020-12-23T16:46:20.063419Z",
     "start_time": "2020-12-23T16:41:28.612119Z"
    }
   },
   "outputs": [],
   "source": [
    "for i in range(len(binlist)):\n",
    "    string=binlist[i]\n",
    "    j= int(address(string,b),2)\n",
    "    w=position_leftmost_1(remaining(string,b))\n",
    "    HLL[j]=max(HLL[j],w)"
   ]
  },
  {
   "cell_type": "code",
   "execution_count": 12,
   "metadata": {
    "ExecuteTime": {
     "end_time": "2020-12-23T16:46:20.154420Z",
     "start_time": "2020-12-23T16:46:20.083419Z"
    }
   },
   "outputs": [
    {
     "data": {
      "text/plain": [
       "array([16., 15., 17., ..., 16., 16., 18.])"
      ]
     },
     "execution_count": 12,
     "metadata": {},
     "output_type": "execute_result"
    }
   ],
   "source": [
    "HLL"
   ]
  },
  {
   "cell_type": "markdown",
   "metadata": {},
   "source": [
    "### Cardinality of the dataset and error of the filter"
   ]
  },
  {
   "cell_type": "code",
   "execution_count": 13,
   "metadata": {
    "ExecuteTime": {
     "end_time": "2020-12-23T16:46:20.186528Z",
     "start_time": "2020-12-23T16:46:20.156454Z"
    }
   },
   "outputs": [],
   "source": [
    "cardinality,error = cardinality_error(HLL,m)"
   ]
  },
  {
   "cell_type": "code",
   "execution_count": 17,
   "metadata": {
    "ExecuteTime": {
     "end_time": "2020-12-23T16:52:04.345957Z",
     "start_time": "2020-12-23T16:52:04.325995Z"
    }
   },
   "outputs": [
    {
     "name": "stdout",
     "output_type": "stream",
     "text": [
      "The cardinality is:  120565840.71729475\n"
     ]
    }
   ],
   "source": [
    "print('The cardinality is: ',cardinality)"
   ]
  },
  {
   "cell_type": "code",
   "execution_count": 16,
   "metadata": {
    "ExecuteTime": {
     "end_time": "2020-12-23T16:52:00.962242Z",
     "start_time": "2020-12-23T16:52:00.885406Z"
    }
   },
   "outputs": [
    {
     "name": "stdout",
     "output_type": "stream",
     "text": [
      "The error is:  2.2980970388562794 %\n"
     ]
    }
   ],
   "source": [
    "print('The error is: ', error*100, '%')"
   ]
  },
  {
   "cell_type": "markdown",
   "metadata": {},
   "source": [
    "   "
   ]
  },
  {
   "cell_type": "markdown",
   "metadata": {},
   "source": [
    "   "
   ]
  },
  {
   "cell_type": "markdown",
   "metadata": {},
   "source": [
    "# 3. Algorithmic question"
   ]
  },
  {
   "cell_type": "markdown",
   "metadata": {},
   "source": [
    "You are given an array A with n integer numbers.\n",
    "\n",
    "Let s = min{ A[1], ..., A[n] } \n",
    "and b = max { A[1], ..., A[n] }.\n",
    "\n",
    "Let r = b - s \n",
    "    \n",
    "Prove that we can sort A in time O(n + r)."
   ]
  },
  {
   "cell_type": "markdown",
   "metadata": {},
   "source": [
    "## Answer"
   ]
  },
  {
   "cell_type": "markdown",
   "metadata": {},
   "source": [
    "To answer the question we can use a known sorting algorithm: *Counting Sort* .\n",
    "\n",
    "This algorithm sort an array of n integer numbers in $O(n + r)$\n",
    "\n",
    "It use an auxiliar array to sort the first one.\n",
    "\n",
    "\n",
    "**Counting Sort**:\n",
    "\n",
    "* Take as input an array A of a known lenght n with integers\n",
    "* Find minimum and maximum values in the given array &rarr; each operation costs $O(n)$\n",
    "* Define the *range:* $r = max - min$\n",
    "* Create a new auxiliar array, initially with all zero values, with size: $r + 1$ \n",
    "* Scan the original array\n",
    "* For each element i increase the counter in the corrisponding index in the second array in this way: \n",
    "\n",
    "    $array1[i] = x$ \n",
    "    \n",
    "    $array2[x-min] +=1$\n",
    "    \n",
    "   This operation costs $O(n)$\n",
    "* Scan the auxiliary array and, for each non-zero element e indexed by i in array2, keep overwriting the original array array1 reporting i+min for e times. This operation costs $O(r)$\n",
    "\n",
    "* Now the array is sorted\n",
    "\n",
    "\n",
    "The overall time complexity is $O(n + r)$\n",
    "    \n",
    "The disvantage of this algorithm is the necessity to use an auxiliar array"
   ]
  },
  {
   "cell_type": "markdown",
   "metadata": {
    "ExecuteTime": {
     "end_time": "2020-12-23T15:16:11.980671Z",
     "start_time": "2020-12-23T15:16:11.965654Z"
    }
   },
   "source": [
    "\n",
    "\n",
    "Below an example of counting_sort algorithm "
   ]
  },
  {
   "cell_type": "code",
   "execution_count": 81,
   "metadata": {
    "ExecuteTime": {
     "end_time": "2020-12-23T15:58:14.809494Z",
     "start_time": "2020-12-23T15:58:14.795522Z"
    }
   },
   "outputs": [],
   "source": [
    "def counting_sort(arr):\n",
    "    # Find min and max. Costo: O(n) + O(n)\n",
    "    print('Initial array: ', arr)\n",
    "    minimum = min(arr)\n",
    "    maximum = max(arr)\n",
    "    \n",
    "    # Find the range and create a new auxiliar vector \n",
    "    our_range = maximum - minimum +1\n",
    "    arr_2 = [0] * our_range\n",
    "    \n",
    "    print('Maximum: ', maximum)\n",
    "    print('Minimum: ', minimum)\n",
    "    print('Range: ', our_range)\n",
    "    print('Auxiliar array: ', arr_2)\n",
    "    \n",
    "\n",
    "    # Scan of first array, count occur. Costo O(n)\n",
    "    for x in arr:\n",
    "        index2 = x - minimum\n",
    "        arr_2[index2] +=1\n",
    "        print('Auxiliar array: ',arr_2)\n",
    "        \n",
    "    print('Auxiliar array at the end: ',arr_2)\n",
    "    \n",
    "    # Scan second array and overwrite the first with sorted elements\n",
    "    \n",
    "    # \"testina di scrittura\"\n",
    "    testina = 0\n",
    "    for i in range(our_range):\n",
    "        # while \"di scarico\" (bisogna scaricare tutte le occorrenze)\n",
    "        while arr_2[i] > 0:\n",
    "            val = i + minimum\n",
    "            arr[testina] = val\n",
    "            arr_2[i] -= 1\n",
    "            testina += 1\n",
    "            print('Auxiliar array: ', arr_2)\n",
    "            \n",
    "            \n",
    "    print('Sorted array: ', arr)        \n"
   ]
  },
  {
   "cell_type": "code",
   "execution_count": 83,
   "metadata": {
    "ExecuteTime": {
     "end_time": "2020-12-23T15:58:36.922398Z",
     "start_time": "2020-12-23T15:58:36.910397Z"
    }
   },
   "outputs": [
    {
     "name": "stdout",
     "output_type": "stream",
     "text": [
      "Initial array:  [10, 5, 2, 7, 5, 6, 4, 6, 8]\n",
      "Maximum:  10\n",
      "Minimum:  2\n",
      "Range:  9\n",
      "Auxiliar array:  [0, 0, 0, 0, 0, 0, 0, 0, 0]\n",
      "Auxiliar array:  [0, 0, 0, 0, 0, 0, 0, 0, 1]\n",
      "Auxiliar array:  [0, 0, 0, 1, 0, 0, 0, 0, 1]\n",
      "Auxiliar array:  [1, 0, 0, 1, 0, 0, 0, 0, 1]\n",
      "Auxiliar array:  [1, 0, 0, 1, 0, 1, 0, 0, 1]\n",
      "Auxiliar array:  [1, 0, 0, 2, 0, 1, 0, 0, 1]\n",
      "Auxiliar array:  [1, 0, 0, 2, 1, 1, 0, 0, 1]\n",
      "Auxiliar array:  [1, 0, 1, 2, 1, 1, 0, 0, 1]\n",
      "Auxiliar array:  [1, 0, 1, 2, 2, 1, 0, 0, 1]\n",
      "Auxiliar array:  [1, 0, 1, 2, 2, 1, 1, 0, 1]\n",
      "Auxiliar array at the end:  [1, 0, 1, 2, 2, 1, 1, 0, 1]\n",
      "Auxiliar array:  [0, 0, 1, 2, 2, 1, 1, 0, 1]\n",
      "Auxiliar array:  [0, 0, 0, 2, 2, 1, 1, 0, 1]\n",
      "Auxiliar array:  [0, 0, 0, 1, 2, 1, 1, 0, 1]\n",
      "Auxiliar array:  [0, 0, 0, 0, 2, 1, 1, 0, 1]\n",
      "Auxiliar array:  [0, 0, 0, 0, 1, 1, 1, 0, 1]\n",
      "Auxiliar array:  [0, 0, 0, 0, 0, 1, 1, 0, 1]\n",
      "Auxiliar array:  [0, 0, 0, 0, 0, 0, 1, 0, 1]\n",
      "Auxiliar array:  [0, 0, 0, 0, 0, 0, 0, 0, 1]\n",
      "Auxiliar array:  [0, 0, 0, 0, 0, 0, 0, 0, 0]\n",
      "Sorted array:  [2, 4, 5, 5, 6, 6, 7, 8, 10]\n"
     ]
    }
   ],
   "source": [
    "arr = [10, 5, 2, 7, 5, 6, 4, 6, 8] \n",
    "counting_sort(arr)"
   ]
  },
  {
   "cell_type": "code",
   "execution_count": null,
   "metadata": {},
   "outputs": [],
   "source": []
  }
 ],
 "metadata": {
  "kernelspec": {
   "display_name": "Python 3",
   "language": "python",
   "name": "python3"
  },
  "language_info": {
   "codemirror_mode": {
    "name": "ipython",
    "version": 3
   },
   "file_extension": ".py",
   "mimetype": "text/x-python",
   "name": "python",
   "nbconvert_exporter": "python",
   "pygments_lexer": "ipython3",
   "version": "3.8.5"
  }
 },
 "nbformat": 4,
 "nbformat_minor": 4
}
