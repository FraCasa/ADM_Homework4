{
 "cells": [
  {
   "cell_type": "code",
   "execution_count": 32,
   "metadata": {
    "ExecuteTime": {
     "end_time": "2020-12-15T17:31:50.618986Z",
     "start_time": "2020-12-15T17:31:50.597937Z"
    }
   },
   "outputs": [],
   "source": [
    "import pandas as pd\n",
    "from math import log2\n",
    "from math import sqrt\n",
    "import numpy as np"
   ]
  },
  {
   "cell_type": "code",
   "execution_count": 2,
   "metadata": {
    "ExecuteTime": {
     "end_time": "2020-12-15T16:41:30.791254Z",
     "start_time": "2020-12-15T16:40:15.884145Z"
    }
   },
   "outputs": [],
   "source": [
    "data = pd.read_csv('hash.txt', header = None)"
   ]
  },
  {
   "cell_type": "code",
   "execution_count": null,
   "metadata": {
    "ExecuteTime": {
     "end_time": "2020-12-15T09:39:50.416048Z",
     "start_time": "2020-12-15T09:39:50.387125Z"
    },
    "scrolled": false
   },
   "outputs": [],
   "source": [
    "data"
   ]
  },
  {
   "cell_type": "code",
   "execution_count": 3,
   "metadata": {
    "ExecuteTime": {
     "end_time": "2020-12-15T16:50:10.946458Z",
     "start_time": "2020-12-15T16:41:30.795234Z"
    }
   },
   "outputs": [],
   "source": [
    "lis=[]\n",
    "for i in range(0,len(data[0])):\n",
    "    lis.append(data[0][i])"
   ]
  },
  {
   "cell_type": "markdown",
   "metadata": {},
   "source": [
    "# hash function"
   ]
  },
  {
   "cell_type": "code",
   "execution_count": 4,
   "metadata": {
    "ExecuteTime": {
     "end_time": "2020-12-15T16:50:10.962418Z",
     "start_time": "2020-12-15T16:50:10.948453Z"
    }
   },
   "outputs": [],
   "source": [
    "def decimalator(hex_number):\n",
    "    return(int(hex_number,16))\n"
   ]
  },
  {
   "cell_type": "code",
   "execution_count": 5,
   "metadata": {
    "ExecuteTime": {
     "end_time": "2020-12-15T16:50:10.978372Z",
     "start_time": "2020-12-15T16:50:10.963413Z"
    }
   },
   "outputs": [],
   "source": [
    "#transform the integer in a 32 bit binary number\n",
    "def binalinator(integer):\n",
    "    if integer < 0:\n",
    "        return '-' + bin(integer)[3:].zfill(32)\n",
    "    else:\n",
    "        return bin(integer)[2:].zfill(32)\n"
   ]
  },
  {
   "cell_type": "code",
   "execution_count": 6,
   "metadata": {
    "ExecuteTime": {
     "end_time": "2020-12-15T16:50:10.993336Z",
     "start_time": "2020-12-15T16:50:10.979371Z"
    }
   },
   "outputs": [],
   "source": [
    "def Hash(hex_string):\n",
    "    integer = decimalator(hex_string)\n",
    "    function = integer % 2**32\n",
    "    return function\n",
    "    "
   ]
  },
  {
   "cell_type": "code",
   "execution_count": 7,
   "metadata": {
    "ExecuteTime": {
     "end_time": "2020-12-15T16:51:24.822366Z",
     "start_time": "2020-12-15T16:50:10.994330Z"
    }
   },
   "outputs": [],
   "source": [
    "for i in range(0,len(lis)):\n",
    "        lis[i]=Hash(lis[i])"
   ]
  },
  {
   "cell_type": "markdown",
   "metadata": {},
   "source": [
    "### binary hashing (required for hyperloglog)"
   ]
  },
  {
   "cell_type": "code",
   "execution_count": 9,
   "metadata": {
    "ExecuteTime": {
     "end_time": "2020-12-15T17:06:31.799914Z",
     "start_time": "2020-12-15T17:05:19.593196Z"
    }
   },
   "outputs": [],
   "source": [
    "binlist=[]\n",
    "for i in range(0,len(lis)):\n",
    "    binlist.append(binalinator(lis[i]))"
   ]
  },
  {
   "cell_type": "markdown",
   "metadata": {},
   "source": [
    "# hyperloglog algorithm"
   ]
  },
  {
   "cell_type": "markdown",
   "metadata": {},
   "source": [
    "The HyperLogLog that we need has 3 main operations: \n",
    "1) ADD: where we add a new element to the set\n",
    "\n",
    "2) Count: where we get the cardinality and the error of the set\n"
   ]
  },
  {
   "cell_type": "code",
   "execution_count": 58,
   "metadata": {
    "ExecuteTime": {
     "end_time": "2020-12-15T17:48:21.111603Z",
     "start_time": "2020-12-15T17:48:21.101633Z"
    }
   },
   "outputs": [],
   "source": [
    "def position_leftmost_1(bin_number):\n",
    "    count=0\n",
    "    for i in bin_number:\n",
    "        count += 1\n",
    "        if i==\"1\":\n",
    "            break\n",
    "    return count         "
   ]
  },
  {
   "cell_type": "code",
   "execution_count": 59,
   "metadata": {
    "ExecuteTime": {
     "end_time": "2020-12-15T17:48:21.592151Z",
     "start_time": "2020-12-15T17:48:21.582177Z"
    }
   },
   "outputs": [],
   "source": [
    "#address (bucket number)\n",
    "def address(string,b):\n",
    "    return string[:b]\n",
    "        "
   ]
  },
  {
   "cell_type": "code",
   "execution_count": 60,
   "metadata": {
    "ExecuteTime": {
     "end_time": "2020-12-15T17:48:22.028771Z",
     "start_time": "2020-12-15T17:48:22.026755Z"
    }
   },
   "outputs": [],
   "source": [
    "def remaining(string,b):\n",
    "    return string[b:]"
   ]
  },
  {
   "cell_type": "markdown",
   "metadata": {
    "ExecuteTime": {
     "end_time": "2020-12-14T17:53:51.151732Z",
     "start_time": "2020-12-14T17:53:51.136789Z"
    }
   },
   "source": [
    "### 1) ADD"
   ]
  },
  {
   "cell_type": "markdown",
   "metadata": {
    "ExecuteTime": {
     "end_time": "2020-12-15T17:54:36.472180Z",
     "start_time": "2020-12-15T17:54:36.452232Z"
    }
   },
   "source": [
    "The add operation consists of  getting the first $b$ bits (where $b$ is $log _{2}(m)$ and adding $1$ to them to obtain the address of the register to modify ($j$ in our case).\n",
    "\n",
    "With the remaining bits compute $w$ which returns the position of the leftmost $1$. The new value of the register will be the maximum between the current value of the register and $w$"
   ]
  },
  {
   "cell_type": "code",
   "execution_count": null,
   "metadata": {},
   "outputs": [],
   "source": [
    "HLL=np.zeros(2**b)"
   ]
  },
  {
   "cell_type": "code",
   "execution_count": 10,
   "metadata": {
    "ExecuteTime": {
     "end_time": "2020-12-15T17:06:50.945642Z",
     "start_time": "2020-12-15T17:06:50.923566Z"
    }
   },
   "outputs": [],
   "source": [
    "m=len(binlist[0])           #doesn't matter which element i pick, all of them are 32 bits\n",
    "b=int(log2(m))         \n"
   ]
  },
  {
   "cell_type": "code",
   "execution_count": 22,
   "metadata": {
    "ExecuteTime": {
     "end_time": "2020-12-15T17:13:33.382418Z",
     "start_time": "2020-12-15T17:10:32.218951Z"
    },
    "scrolled": true
   },
   "outputs": [],
   "source": [
    "for i in range(len(binlist)):\n",
    "    string=binlist[i]\n",
    "    j= int(address(string,b),2)\n",
    "    w=position_leftmost_1(remaining(string,b))\n",
    "    HLL[j]=max(HLL[j],w)"
   ]
  },
  {
   "cell_type": "markdown",
   "metadata": {},
   "source": [
    "## Count"
   ]
  },
  {
   "cell_type": "markdown",
   "metadata": {},
   "source": [
    "The count algorithm consists in computing the harmonic mean of the $m$ registers and the error of the algorithm"
   ]
  },
  {
   "cell_type": "code",
   "execution_count": 43,
   "metadata": {
    "ExecuteTime": {
     "end_time": "2020-12-15T17:37:40.521658Z",
     "start_time": "2020-12-15T17:37:40.510659Z"
    },
    "scrolled": true
   },
   "outputs": [],
   "source": [
    "# Z=(2**(-np.mean(HLL)))**(-1)\n",
    "# a_m=0.697\n",
    "# cardinality=a_m*Z*m**2"
   ]
  },
  {
   "cell_type": "code",
   "execution_count": 56,
   "metadata": {
    "ExecuteTime": {
     "end_time": "2020-12-15T17:46:35.059307Z",
     "start_time": "2020-12-15T17:46:35.050330Z"
    }
   },
   "outputs": [
    {
     "data": {
      "text/plain": [
       "7860829"
      ]
     },
     "execution_count": 56,
     "metadata": {},
     "output_type": "execute_result"
    }
   ],
   "source": [
    "cardinality = round(((2**(-np.mean(HLL)))**(-1)))\n",
    "cardinality"
   ]
  },
  {
   "cell_type": "code",
   "execution_count": 57,
   "metadata": {
    "ExecuteTime": {
     "end_time": "2020-12-15T17:46:44.902014Z",
     "start_time": "2020-12-15T17:46:44.884061Z"
    }
   },
   "outputs": [
    {
     "data": {
      "text/plain": [
       "0.22980970388562794"
      ]
     },
     "execution_count": 57,
     "metadata": {},
     "output_type": "execute_result"
    }
   ],
   "source": [
    "error=(1.3/sqrt(m))\n",
    "error"
   ]
  }
 ],
 "metadata": {
  "kernelspec": {
   "display_name": "Python 3",
   "language": "python",
   "name": "python3"
  },
  "language_info": {
   "codemirror_mode": {
    "name": "ipython",
    "version": 3
   },
   "file_extension": ".py",
   "mimetype": "text/x-python",
   "name": "python",
   "nbconvert_exporter": "python",
   "pygments_lexer": "ipython3",
   "version": "3.8.5"
  }
 },
 "nbformat": 4,
 "nbformat_minor": 4
}
