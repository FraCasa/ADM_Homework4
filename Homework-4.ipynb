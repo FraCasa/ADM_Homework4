{
 "cells": [
  {
   "cell_type": "code",
   "execution_count": 64,
   "metadata": {
    "ExecuteTime": {
     "end_time": "2020-12-22T16:04:14.778777Z",
     "start_time": "2020-12-22T16:04:14.765811Z"
    }
   },
   "outputs": [],
   "source": [
    "import pandas as pd\n",
    "from math import log2\n",
    "import numpy as np\n",
    "from functions import *      #function we've created"
   ]
  },
  {
   "cell_type": "code",
   "execution_count": 32,
   "metadata": {
    "ExecuteTime": {
     "end_time": "2020-12-22T15:25:24.185007Z",
     "start_time": "2020-12-22T15:23:58.457137Z"
    }
   },
   "outputs": [],
   "source": [
    "data = pd.read_csv('hash.txt', header = None)"
   ]
  },
  {
   "cell_type": "code",
   "execution_count": 33,
   "metadata": {
    "ExecuteTime": {
     "end_time": "2020-12-22T15:25:24.294568Z",
     "start_time": "2020-12-22T15:25:24.189963Z"
    },
    "scrolled": false
   },
   "outputs": [
    {
     "data": {
      "text/html": [
       "<div>\n",
       "<style scoped>\n",
       "    .dataframe tbody tr th:only-of-type {\n",
       "        vertical-align: middle;\n",
       "    }\n",
       "\n",
       "    .dataframe tbody tr th {\n",
       "        vertical-align: top;\n",
       "    }\n",
       "\n",
       "    .dataframe thead th {\n",
       "        text-align: right;\n",
       "    }\n",
       "</style>\n",
       "<table border=\"1\" class=\"dataframe\">\n",
       "  <thead>\n",
       "    <tr style=\"text-align: right;\">\n",
       "      <th></th>\n",
       "      <th>0</th>\n",
       "    </tr>\n",
       "  </thead>\n",
       "  <tbody>\n",
       "    <tr>\n",
       "      <th>0</th>\n",
       "      <td>844082e02a27ddee8d99ea1af94a2969</td>\n",
       "    </tr>\n",
       "    <tr>\n",
       "      <th>1</th>\n",
       "      <td>ff96d6665b5c59d3a70bb8f2ba4f10be</td>\n",
       "    </tr>\n",
       "    <tr>\n",
       "      <th>2</th>\n",
       "      <td>b64a85884e2b159829331c19e05dbac9</td>\n",
       "    </tr>\n",
       "    <tr>\n",
       "      <th>3</th>\n",
       "      <td>1c8836719e84867c26ba2cfeb372c53d</td>\n",
       "    </tr>\n",
       "    <tr>\n",
       "      <th>4</th>\n",
       "      <td>b66f73ffd9008d9c99159e164261df51</td>\n",
       "    </tr>\n",
       "    <tr>\n",
       "      <th>...</th>\n",
       "      <td>...</td>\n",
       "    </tr>\n",
       "    <tr>\n",
       "      <th>138999995</th>\n",
       "      <td>84f48cbf9aa048ddada7e47d70ee7d47</td>\n",
       "    </tr>\n",
       "    <tr>\n",
       "      <th>138999996</th>\n",
       "      <td>dbce076164042cb808a0be005a307545</td>\n",
       "    </tr>\n",
       "    <tr>\n",
       "      <th>138999997</th>\n",
       "      <td>b175ab844ab7ec3c803a0e86a9033729</td>\n",
       "    </tr>\n",
       "    <tr>\n",
       "      <th>138999998</th>\n",
       "      <td>f0a6061d411a90921922eb5716caafc9</td>\n",
       "    </tr>\n",
       "    <tr>\n",
       "      <th>138999999</th>\n",
       "      <td>66f7ea0ff5b62a47f04b00bb624981a4</td>\n",
       "    </tr>\n",
       "  </tbody>\n",
       "</table>\n",
       "<p>139000000 rows × 1 columns</p>\n",
       "</div>"
      ],
      "text/plain": [
       "                                          0\n",
       "0          844082e02a27ddee8d99ea1af94a2969\n",
       "1          ff96d6665b5c59d3a70bb8f2ba4f10be\n",
       "2          b64a85884e2b159829331c19e05dbac9\n",
       "3          1c8836719e84867c26ba2cfeb372c53d\n",
       "4          b66f73ffd9008d9c99159e164261df51\n",
       "...                                     ...\n",
       "138999995  84f48cbf9aa048ddada7e47d70ee7d47\n",
       "138999996  dbce076164042cb808a0be005a307545\n",
       "138999997  b175ab844ab7ec3c803a0e86a9033729\n",
       "138999998  f0a6061d411a90921922eb5716caafc9\n",
       "138999999  66f7ea0ff5b62a47f04b00bb624981a4\n",
       "\n",
       "[139000000 rows x 1 columns]"
      ]
     },
     "execution_count": 33,
     "metadata": {},
     "output_type": "execute_result"
    }
   ],
   "source": [
    "data"
   ]
  },
  {
   "cell_type": "code",
   "execution_count": 34,
   "metadata": {
    "ExecuteTime": {
     "end_time": "2020-12-22T15:35:02.915447Z",
     "start_time": "2020-12-22T15:25:24.296585Z"
    }
   },
   "outputs": [],
   "source": [
    "lis=[]\n",
    "for i in range(0,len(data[0])):\n",
    "    lis.append(data[0][i])"
   ]
  },
  {
   "cell_type": "markdown",
   "metadata": {},
   "source": [
    "## apply hash function"
   ]
  },
  {
   "cell_type": "code",
   "execution_count": 35,
   "metadata": {
    "ExecuteTime": {
     "end_time": "2020-12-22T15:36:19.248561Z",
     "start_time": "2020-12-22T15:35:02.919436Z"
    }
   },
   "outputs": [],
   "source": [
    "for i in range(0,len(lis)):\n",
    "        lis[i]=Hash(lis[i])"
   ]
  },
  {
   "cell_type": "markdown",
   "metadata": {},
   "source": [
    "### binary hashing (required for hyperloglog)"
   ]
  },
  {
   "cell_type": "markdown",
   "metadata": {},
   "source": [
    "it will just transform the output of the hash function in binary"
   ]
  },
  {
   "cell_type": "code",
   "execution_count": 36,
   "metadata": {
    "ExecuteTime": {
     "end_time": "2020-12-22T15:37:42.638621Z",
     "start_time": "2020-12-22T15:36:19.249556Z"
    }
   },
   "outputs": [],
   "source": [
    "binlist=[]\n",
    "for i in range(0,len(lis)):\n",
    "    binlist.append(binalinator(lis[i]))"
   ]
  },
  {
   "cell_type": "markdown",
   "metadata": {},
   "source": [
    "# hyperloglog algorithm"
   ]
  },
  {
   "cell_type": "markdown",
   "metadata": {},
   "source": [
    "The HyperLogLog that we need has 2 main operations: \n",
    "1) ADD: where we add a new element to the set\n",
    "\n",
    "2) Count: where we get the cardinality and the error of the set\n"
   ]
  },
  {
   "cell_type": "markdown",
   "metadata": {
    "ExecuteTime": {
     "end_time": "2020-12-14T17:53:51.151732Z",
     "start_time": "2020-12-14T17:53:51.136789Z"
    }
   },
   "source": [
    "### 1) ADD"
   ]
  },
  {
   "cell_type": "markdown",
   "metadata": {
    "ExecuteTime": {
     "end_time": "2020-12-15T17:54:36.472180Z",
     "start_time": "2020-12-15T17:54:36.452232Z"
    }
   },
   "source": [
    "The add operation consists of  getting the first $b$ bits (where $b$ is $log _{2}(m)$ and adding $1$ to them to obtain the address of the register to modify ($j$ in our case).\n",
    "\n",
    "With the remaining bits compute $w$ which returns the position of the leftmost $1$. The new value of the register will be the maximum between the current value of the register and $w$"
   ]
  },
  {
   "cell_type": "code",
   "execution_count": 46,
   "metadata": {
    "ExecuteTime": {
     "end_time": "2020-12-22T15:43:25.579077Z",
     "start_time": "2020-12-22T15:43:25.562092Z"
    }
   },
   "outputs": [],
   "source": [
    "m=2048       \n",
    "b=int(log2(m))         "
   ]
  },
  {
   "cell_type": "code",
   "execution_count": 60,
   "metadata": {
    "ExecuteTime": {
     "end_time": "2020-12-22T16:00:46.436238Z",
     "start_time": "2020-12-22T16:00:46.424271Z"
    }
   },
   "outputs": [],
   "source": [
    "HLL=np.zeros(2**b)"
   ]
  },
  {
   "cell_type": "code",
   "execution_count": 61,
   "metadata": {
    "ExecuteTime": {
     "end_time": "2020-12-22T16:04:14.716944Z",
     "start_time": "2020-12-22T16:00:47.449894Z"
    },
    "scrolled": true
   },
   "outputs": [],
   "source": [
    "for i in range(len(binlist)):\n",
    "    string=binlist[i]\n",
    "    j= int(address(string,b),2)\n",
    "    w=position_leftmost_1(remaining(string,b))\n",
    "    HLL[j]=max(HLL[j],w)"
   ]
  },
  {
   "cell_type": "code",
   "execution_count": 66,
   "metadata": {
    "ExecuteTime": {
     "end_time": "2020-12-22T16:04:35.113497Z",
     "start_time": "2020-12-22T16:04:35.101502Z"
    }
   },
   "outputs": [
    {
     "data": {
      "text/plain": [
       "array([16., 15., 17., ..., 16., 16., 18.])"
      ]
     },
     "execution_count": 66,
     "metadata": {},
     "output_type": "execute_result"
    }
   ],
   "source": [
    "HLL"
   ]
  },
  {
   "cell_type": "markdown",
   "metadata": {},
   "source": [
    "## Count"
   ]
  },
  {
   "cell_type": "markdown",
   "metadata": {},
   "source": [
    "The count algorithm consists in computing the cardinality  and the error of the algorithm"
   ]
  },
  {
   "cell_type": "code",
   "execution_count": 63,
   "metadata": {
    "ExecuteTime": {
     "end_time": "2020-12-22T16:04:14.764814Z",
     "start_time": "2020-12-22T16:04:14.750852Z"
    }
   },
   "outputs": [
    {
     "data": {
      "text/plain": [
       "(120565840.71729475, 0.022980970388562793)"
      ]
     },
     "execution_count": 63,
     "metadata": {},
     "output_type": "execute_result"
    }
   ],
   "source": [
    "cardinality_error(HLL,m)\n"
   ]
  },
  {
   "cell_type": "code",
   "execution_count": null,
   "metadata": {},
   "outputs": [],
   "source": []
  }
 ],
 "metadata": {
  "kernelspec": {
   "display_name": "Python 3",
   "language": "python",
   "name": "python3"
  },
  "language_info": {
   "codemirror_mode": {
    "name": "ipython",
    "version": 3
   },
   "file_extension": ".py",
   "mimetype": "text/x-python",
   "name": "python",
   "nbconvert_exporter": "python",
   "pygments_lexer": "ipython3",
   "version": "3.8.5"
  }
 },
 "nbformat": 4,
 "nbformat_minor": 4
}
